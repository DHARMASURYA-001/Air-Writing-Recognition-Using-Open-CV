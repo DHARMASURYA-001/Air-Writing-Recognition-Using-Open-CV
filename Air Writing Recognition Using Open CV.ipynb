{
 "cells": [
  {
   "cell_type": "code",
   "execution_count": null,
   "id": "932456e6",
   "metadata": {},
   "outputs": [],
   "source": [
    "#importing required packages for proposed system\n",
    "import numpy as np"
   ]
  },
  {
   "cell_type": "code",
   "execution_count": null,
   "id": "c2002594",
   "metadata": {},
   "outputs": [],
   "source": [
    "import cv2              #OpenCV package"
   ]
  },
  {
   "cell_type": "code",
   "execution_count": null,
   "id": "636878fe",
   "metadata": {},
   "outputs": [],
   "source": [
    "import img2pdf"
   ]
  },
  {
   "cell_type": "code",
   "execution_count": null,
   "id": "7cb08e60",
   "metadata": {},
   "outputs": [],
   "source": [
    "from collections import deque\n",
    "from PIL import Image   #convert img to pdf"
   ]
  },
  {
   "cell_type": "code",
   "execution_count": null,
   "id": "fd0e070c",
   "metadata": {},
   "outputs": [],
   "source": [
    "# Defining boundaries for upper and lower color considered to be \"Blue\"\n",
    "blueLower = np.array([100, 60, 60])\n",
    "blueUpper = np.array([140, 255, 255])"
   ]
  },
  {
   "cell_type": "code",
   "execution_count": null,
   "id": "6a809060",
   "metadata": {},
   "outputs": [],
   "source": [
    "# Define a 5x5 kernel for erosion and dilation\n",
    "kernel = np.ones((5, 5), np.uint8)"
   ]
  },
  {
   "cell_type": "code",
   "execution_count": null,
   "id": "3acdd955",
   "metadata": {},
   "outputs": [],
   "source": [
    "# Setup deques to store separate colors in separate arrays\n",
    "b_points = [deque (maxlen = 512)]\n",
    "g_points = [deque (maxlen = 512)]\n",
    "r_points = [deque (maxlen = 512)]\n",
    "y_points = [deque (maxlen = 512)]"
   ]
  },
  {
   "cell_type": "code",
   "execution_count": null,
   "id": "928a0e61",
   "metadata": {},
   "outputs": [],
   "source": [
    "b_index = 0\n",
    "g_index = 0\n",
    "r_index = 0\n",
    "y_index = 0"
   ]
  },
  {
   "cell_type": "code",
   "execution_count": null,
   "id": "673be350",
   "metadata": {},
   "outputs": [],
   "source": [
    "colors = [(255, 0, 0), (0, 255, 0), (0, 0, 255), (0, 255, 255)]\n",
    "colorIndex = 0"
   ]
  },
  {
   "cell_type": "code",
   "execution_count": null,
   "id": "96b2bcb6",
   "metadata": {},
   "outputs": [],
   "source": [
    "# Setup the Paint interface\n",
    "paintWindow = np.zeros((471,636,3)) + 255\n",
    "paintWindow = cv2.rectangle(paintWindow, (40,1), (140,65), (0,0,0), 2)\n",
    "paintWindow = cv2.rectangle(paintWindow, (160,1), (255,65), colors[0], -1)\n",
    "paintWindow = cv2.rectangle(paintWindow, (275,1), (370,65), colors[1], -1)\n",
    "paintWindow = cv2.rectangle(paintWindow, (390,1), (485,65), colors[2], -1)\n",
    "paintWindow = cv2.rectangle(paintWindow, (505,1), (600,65), colors[3], -1)"
   ]
  },
  {
   "cell_type": "code",
   "execution_count": null,
   "id": "07eb7303",
   "metadata": {},
   "outputs": [],
   "source": [
    "cv2.putText(paintWindow, \"CLEAR ALL\", (49, 33), cv2.FONT_HERSHEY_SIMPLEX,0.5, (0, 0, 0), 2, cv2.LINE_AA)\n",
    "cv2.putText(paintWindow, \"BLUE\", (185, 33), cv2.FONT_HERSHEY_SIMPLEX, 0.5,       (255, 255, 255), 2, cv2.LINE_AA)       #text on paint window\n",
    "cv2.putText(paintWindow, \"GREEN\", (298, 33), cv2.FONT_HERSHEY_SIMPLEX, 0.5,    (255, 255, 255), 2, cv2.LINE_AA)         #text on paint window\n",
    "cv2.putText(paintWindow, \"RED\", (420, 33), cv2.FONT_HERSHEY_SIMPLEX, 0.5,         (255, 255, 255), 2, cv2.LINE_AA)      #text on paint window\n",
    "cv2.putText(paintWindow, \"YELLOW\", (520, 33), cv2.FONT_HERSHEY_SIMPLEX, 0.5, (150,150,150), 2, cv2.LINE_AA)             #text on paint window\n",
    "cv2.namedWindow('Paint', cv2.WINDOW_AUTOSIZE)"
   ]
  },
  {
   "cell_type": "code",
   "execution_count": null,
   "id": "c9859698",
   "metadata": {},
   "outputs": [],
   "source": [
    "# Load the video\n",
    "webcamera = cv2.VideoCapture(0)"
   ]
  },
  {
   "cell_type": "code",
   "execution_count": null,
   "id": "0a146fa7",
   "metadata": {},
   "outputs": [],
   "source": [
    "# For Keep - looping\n",
    "while True:\n",
    "    # To grab current paintWindow/frame\n",
    "    (grab, frame) = webcamera.read()            \n",
    "    frame = cv2.flip(frame, 1)                  #frame setting\n",
    "    hsv = cv2.cvtColor(frame, cv2.COLOR_BGR2HSV)\n",
    "\n",
    "     # Add the coloring options to the frame\n",
    "    frame = cv2.rectangle(frame, (40,1), (140,65), (122,122,122), -1)\n",
    "    frame = cv2.rectangle(frame, (160,1), (255,65), colors[0], -1)\n",
    "    frame = cv2.rectangle(frame, (275,1), (370,65), colors[1], -1)\n",
    "    frame = cv2.rectangle(frame, (390,1), (485,65), colors[2], -1)\n",
    "    frame = cv2.rectangle(frame, (505,1), (600,65), colors[3], -1)\n",
    "   \n",
    "\n",
    "    cv2.putText(frame, \"CLEAR ALL\", (49, 33), cv2.FONT_HERSHEY_SIMPLEX, 0.5, (255, 255, 255), 2, cv2.LINE_AA)       #text on track screen\n",
    "    cv2.putText(frame, \"BLUE\", (185, 33), cv2.FONT_HERSHEY_SIMPLEX, 0.5, (255, 255, 255), 2, cv2.LINE_AA)           #text on track screen\n",
    "    cv2.putText(frame, \"GREEN\", (298, 33), cv2.FONT_HERSHEY_SIMPLEX, 0.5, (255, 255, 255), 2, cv2.LINE_AA)          #text on track screen\n",
    "    cv2.putText(frame, \"RED\", (420, 33), cv2.FONT_HERSHEY_SIMPLEX, 0.5, (255, 255, 255), 2, cv2.LINE_AA)            #text on track screen\n",
    "    cv2.putText(frame, \"YELLOW\", (520, 33), cv2.FONT_HERSHEY_SIMPLEX, 0.5, (150,150,150), 2, cv2.LINE_AA)           #text on track screen\n",
    "\n",
    "    # Test to check whether we have reached the end of the video\n",
    "    if not grab:\n",
    "        break\n",
    "\n",
    "    # To determine that what pixels fall within blue boundaries and then blur the binary image\n",
    "    blueMask = cv2.inRange(hsv, blueLower, blueUpper)\n",
    "    blueMask = cv2.erode(blueMask, kernel, iterations=2)\n",
    "    blueMask = cv2.morphologyEx(blueMask, cv2.MORPH_OPEN, kernel)\n",
    "    blueMask = cv2.dilate(blueMask, kernel, iterations=1)\n",
    "\n",
    "     # To Find contours in the image\n",
    "    (cnts, _) = cv2.findContours(blueMask.copy(), cv2.RETR_EXTERNAL,\n",
    "        cv2.CHAIN_APPROX_SIMPLE)\n",
    "    center = None\n",
    "\n",
    "    # To check whether any contours were found\n",
    "    if len(cnts) > 0:                   #check for contour lengths\n",
    "        # To sort the contours, then find the largest one among.\n",
    "        # can assume this contour proportional to the area of the bottle cap\n",
    "        cnt = sorted(cnts,  reverse = True, key = cv2.contourArea)[0]\n",
    "        \n",
    "        # To get the radius of circle enclosed around the contour found\n",
    "        ((x, y), radius) = cv2.minEnclosingCircle(cnt)\n",
    "        \n",
    "        # To Draw circle around the found contour\n",
    "        cv2.circle(frame, ( int(x), int(y) ), int(radius), (0, 255, 255), 2)\n",
    "        \n",
    "        # To Get moments to calculate the center of contour (in this case Circle)\n",
    "        M = cv2.moments(cnt)\n",
    "        center = (int(M['m10'] / M['m00']), int(M['m01'] / M['m00']))\n",
    "\n",
    "#To match with the colors used for background distortion\n",
    "        if center[1] <= 65:\n",
    "            if 40 <= center[0] <= 140:                  # Clear All\n",
    "                b_points = [deque (maxlen = 512)]\n",
    "                g_points = [deque (maxlen = 512)]\n",
    "                r_points = [deque (maxlen = 512)]\n",
    "                y_points = [deque (maxlen = 512)]\n",
    "               \n",
    "                b_index = 0\n",
    "                g_index = 0\n",
    "                r_index = 0\n",
    "                y_index = 0\n",
    "\n",
    "                paintWindow[67:,:,:] = 255\n",
    "            elif 160 <= center[0] <= 255:\n",
    "                colorIndex = 0                  # Blue\n",
    "            elif 390 <= center[0] <= 485:\n",
    "                colorIndex = 2                  # Red\n",
    "            elif 275 <= center[0] <= 370:\n",
    "                colorIndex = 1  \n",
    "            elif 505 <= center[0] <= 600:\n",
    "                colorIndex = 3              # Green\n",
    "            # elif 505 <= center[0] <= 600:\n",
    "            #     colorIndex = 3                    # Yellow\n",
    "    \n",
    "        else:\n",
    "            if colorIndex == 0:\n",
    "                b_points[b_index].appendleft(center)        # Blue\n",
    "            elif colorIndex == 1:\n",
    "                g_points[g_index].appendleft(center)        # Green\n",
    "            elif colorIndex == 2:                   \n",
    "                r_points[r_index].appendleft(center)        #Red\n",
    "            elif colorIndex == 3:               \n",
    "                y_points[y_index].appendleft(center)        #Yellow\n",
    "    \n",
    "     #To Append next deque if no contours are detected (i.e., bottle cap reversed)\n",
    "    else:\n",
    "        b_points.append(deque(maxlen = 512))\n",
    "        b_index += 1\n",
    "        g_points.append(deque(maxlen = 512))\n",
    "        g_index += 1\n",
    "        r_points.append(deque(maxlen = 512))\n",
    "        r_index += 1\n",
    "        y_points.append(deque(maxlen = 512))\n",
    "        y_index += 1\n",
    "\n",
    "    \n",
    "# To Draw the lines of all included colors (Blue, Green, Red and Yellow)\n",
    "    points = [b_points, g_points, r_points, y_points]\n",
    "    for i in range(len(points)):\n",
    "        for j in range(len(points[i])):\n",
    "            for k in range(1, len(points[i][j])):\n",
    "                if points[i][j][k - 1] is None or points[i][j][k] is None:\n",
    "                    continue\n",
    "                cv2.line(frame, points[i][j][k - 1], points[i][j][k], colors[i], 2)\n",
    "                cv2.line(paintWindow, points[i][j][k - 1], points[i][j][k], colors[i], 2)\n",
    "\n",
    "    #To  Show the Tracking frame and the paint Window screen\n",
    "    cv2.imshow(\"Tracking\", frame)\n",
    "    cv2.imshow(\"Paint\", paintWindow)\n",
    "\n",
    "    #To save image as image\n",
    "    k= cv2.waitKey(1)\n",
    "    if k == ord(\"s\"):\n",
    "        cv2.imwrite('air-writing image.png',paintWindow)\n",
    "        pdf_path=r\"C:\\1review\"\n",
    "        pdf = img2pdf.convert('air-writing image.png')\n",
    "        file = open(pdf_path, \"wb\")\n",
    "        file.write(pdf)\n",
    "        # file.close()\n",
    "   \n",
    "    #To convert image as PDF\n",
    "    elif k == ord(\"p\"):\n",
    "        cv2.imwrite('air-writing image.png',paintWindow)\n",
    "       \n",
    "        #converting image to pdf format\n",
    "        image1=Image.open(r'C:\\1review\\air-writing image.png')\n",
    "        im1=image1.convert('RGB')\n",
    "        im1.save(r'C:\\1review\\air-writing pdf.pdf')\n",
    "        file.close()\n",
    "   \n",
    "    # If key 'q' is pressed, it will stop the loop\n",
    "    k= cv2.waitKey(1)\n",
    "    if k & 0xFF == ord(\"q\"):\n",
    "        break\n",
    "\n",
    "# To Clean up the web camera and close if any windows open\n",
    "webcamera.release()\n",
    "cv2.destroyAllWindows()\n",
    "\n"
   ]
  },
  {
   "cell_type": "code",
   "execution_count": null,
   "id": "c78fc31b",
   "metadata": {},
   "outputs": [],
   "source": []
  }
 ],
 "metadata": {
  "kernelspec": {
   "display_name": "Python 3",
   "language": "python",
   "name": "python3"
  },
  "language_info": {
   "codemirror_mode": {
    "name": "ipython",
    "version": 3
   },
   "file_extension": ".py",
   "mimetype": "text/x-python",
   "name": "python",
   "nbconvert_exporter": "python",
   "pygments_lexer": "ipython3",
   "version": "3.9.7"
  }
 },
 "nbformat": 4,
 "nbformat_minor": 5
}
